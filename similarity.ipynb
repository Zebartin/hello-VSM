{
 "cells": [
  {
   "cell_type": "markdown",
   "metadata": {},
   "source": [
    "# 计算文本相似度"
   ]
  },
  {
   "cell_type": "markdown",
   "metadata": {},
   "source": [
    "## 读取文件"
   ]
  },
  {
   "cell_type": "code",
   "execution_count": 41,
   "metadata": {},
   "outputs": [],
   "source": [
    "from vsm_similarity import read_file, cal_tf_idf, cal_doc_norm, cal_similarity, cal_similarity_mp\n",
    "file_name = '199801_clear.txt'\n",
    "docs, words = read_file(file_name)"
   ]
  },
  {
   "cell_type": "markdown",
   "metadata": {},
   "source": [
    "这一部分耗时2秒左右。\n",
    "\n",
    "读取完毕后，`docs`中保存着文档的预处理信息，其中每个元素都是一篇文档，以`docs[0]`为例：\n",
    "\n",
    "```json\n",
    "{\n",
    "    \"id\": \"01-01-001\",\n",
    "    \"max_tf\": 24,\n",
    "    \"length\": 626,\n",
    "    \"words\": [\"经验/n\", \"永远/d\", ...],\n",
    "    \"content\": \"迈向充满希望的新世纪——一九九八年新年讲话...\"\n",
    "} \n",
    "```\n",
    "\n",
    "`words`则保存着所有词语在不同文档中的词频，形如：\n",
    "\n",
    "```json\n",
    "{\n",
    "  \"迈向/v\": {\n",
    "    0: 2,\n",
    "    2: 1,\n",
    "    36: 1,\n",
    "    ...,\n",
    "    2969: 1\n",
    "  },\n",
    "  \"充满/v\": {\n",
    "    0: 3,\n",
    "    1: 3,\n",
    "    2: 2,\n",
    "    ...,\n",
    "    3125: 1\n",
    "  },\n",
    "  ...\n",
    "}\n",
    "```\n"
   ]
  },
  {
   "cell_type": "markdown",
   "metadata": {},
   "source": [
    "## 预计算"
   ]
  },
  {
   "cell_type": "code",
   "execution_count": 42,
   "metadata": {},
   "outputs": [],
   "source": [
    "tf_idfs = cal_tf_idf(docs, words)\n",
    "cal_doc_norm(docs, tf_idfs)"
   ]
  },
  {
   "cell_type": "markdown",
   "metadata": {},
   "source": [
    "这一部分耗时1秒以内。\n",
    "\n",
    "计算所有词语在不同文档中的tf-idf，并保存在相应的数据结构中，形如：\n",
    "```json\n",
    "{\n",
    "  \"迈向/v\": {\n",
    "    0: 0.40297056538909104,\n",
    "    2: 0.4835646784669093,\n",
    "    36: 0.6044558480836366,\n",
    "    ...,\n",
    "    2969: 0.11794260450412422\n",
    "  },\n",
    "  \"充满/v\": {\n",
    "    0: 0.43890347840841126,\n",
    "    ...\n",
    "  },\n",
    "  ...\n",
    "}\n",
    "```\n",
    "\n",
    "然后由得到的tf-idf计算各个文档向量的模长，保存在`docs`的新字段中。"
   ]
  },
  {
   "cell_type": "markdown",
   "metadata": {},
   "source": [
    "## 计算相似度"
   ]
  },
  {
   "cell_type": "code",
   "execution_count": 43,
   "metadata": {},
   "outputs": [],
   "source": [
    "sim_mp = cal_similarity_mp(docs, tf_idfs, pnum=4)"
   ]
  },
  {
   "cell_type": "code",
   "execution_count": 44,
   "metadata": {},
   "outputs": [],
   "source": [
    "sim = cal_similarity(docs, tf_idfs)"
   ]
  },
  {
   "cell_type": "markdown",
   "metadata": {},
   "source": [
    "这里提供了两种计算方式，单进程和多进程。其中单进程耗时35秒以上，并行数4的多进程耗时25秒以内，具体时间可能有所偏差，视运行环境而定。"
   ]
  },
  {
   "cell_type": "code",
   "execution_count": 45,
   "metadata": {},
   "outputs": [
    {
     "data": {
      "text/plain": [
       "True"
      ]
     },
     "execution_count": 45,
     "metadata": {},
     "output_type": "execute_result"
    }
   ],
   "source": [
    "import math\n",
    "all([math.isclose(a, b) for a, b in zip(sim, sim_mp)])"
   ]
  },
  {
   "cell_type": "markdown",
   "metadata": {},
   "source": [
    "可以验证两种计算方式得到的结果是一致的。"
   ]
  },
  {
   "cell_type": "markdown",
   "metadata": {},
   "source": [
    "## 验证结果"
   ]
  },
  {
   "cell_type": "code",
   "execution_count": 46,
   "metadata": {},
   "outputs": [],
   "source": [
    "def get_simililarity(i, j):\n",
    "    \"\"\"获得文档i和文档j的相似度\"\"\"\n",
    "    assert len(docs) > j\n",
    "    assert j > i\n",
    "    return sim[j-i + (2*len(docs) - i - 1)*i//2 - 1]\n",
    "\n",
    "\n",
    "def get_specific(i):\n",
    "    \"\"\"获得特定文档i与其他文档的相似度\"\"\"\n",
    "    assert len(docs) > i\n",
    "    ret = []\n",
    "    for j in range(i):\n",
    "        ret.append(get_simililarity(j, i))\n",
    "    ret.append(1)\n",
    "    index = ((2*len(docs) - i - 1)*i)//2\n",
    "    ret += sim[index:index+len(docs)-i-1]\n",
    "    return ret\n",
    "\n",
    "\n",
    "def most_similar(i, n=20):\n",
    "    \"\"\"查找与文档i最相似的文档\"\"\"\n",
    "    v = get_specific(i)\n",
    "    return sorted(((j, v[j]) for j in range(len(docs))), key=lambda x: x[1], reverse=True)[:n]"
   ]
  },
  {
   "cell_type": "markdown",
   "metadata": {},
   "source": [
    "这里定义了一些实用函数，方便后续的结果验证，可自行任意调用。"
   ]
  },
  {
   "cell_type": "code",
   "execution_count": 57,
   "metadata": {},
   "outputs": [
    {
     "name": "stdout",
     "output_type": "stream",
     "text": [
      "迎接更辉煌的新世纪\n",
      "中国文联副主席李默然\n",
      "近一个世纪以来，话剧始终和中国人民反帝、反封建、创建新中国、建设社会主义一系列伟大斗争与变革同行。因此，它赢得了广大观众的认同、爱护。\n",
      "对已仙逝的诸多先行者与千万名今天犹在话剧战线上拼搏、战斗的『话剧人』来说，取得的重要经验之一，就是千方百计争取广大观众到剧场来。因为有没有观众，不仅是个票房价值问题。话剧不同于其他艺术门类的一个独有的艺术规律，就是一出话剧的最后完善、完成，必须有广大观众的参与和创造。所谓千百次不同演出，有千百次新的体验与体现，正是从广大观众的反馈中得来的。反映现实生活的剧目也好，上演古今中外的经典名著也好，皆同此理。\n",
      "因此，无论进行什么样的探索、实验，我们的聚焦点，始终应是广大观众所思、所想以及他们的欣赏习惯与美学趣味，要努力争取广大观众的支持。因为没有观众，就没有话剧，这是个常识性的问题。什么时候离开了这个重要的宝贵经验，就势必遭到广大观众的冷漠，话剧也势必陷入困境，实践已证明了这一点。\n",
      "党的十五大向全党、全国各族人民提出宏伟的蓝图。江泽民同志在报告中提出建设有中国特色社会主义文化的重大任务。他说：『建设有中国特色的社会主义文化，是凝聚和激励各族人民的重要动力，是综合国力的重要标志。』并明确指示，艺术的根是中国五千年文化，源是沸腾的现实生活。他指出，借鉴外国先进文化，要为我所用。这就从文化工作的宗旨、目的、方法，都作了明确的、科学的阐述。应该说我们是生逢盛世，方向明确，任务光荣。话剧工作者一定要明确重任，努力贯彻。\n",
      "江泽民同志最近指出：『话剧有它特殊的魅力，是别的艺术形式不能代替的。』话剧工作者因此受到极大鼓舞。相信总书记对话剧艺术的评价，会增强话剧队伍的凝聚力与信心。\n",
      "话剧工作的九十年历程，有经验、有教训，有辉煌亦有黯淡。但是，只要我们不脱离群众，不忽视广大观众的正当需求，又十分认真地遵守话剧本身的艺术规律，话剧不仅不会消亡，还会有新的创造，有更辉煌的前程。\n",
      "祝愿我们的话剧事业更加辉煌！\n",
      "\n",
      "\n",
      "话剧再次成为热门话题艺术家、评论家在京聚会讨论繁荣话剧艺术\n",
      "本报北京１月８日讯新年伊始，中国话剧９０年纪念活动，不仅使首都文艺舞台更加多姿多彩，也使“话剧”再次成为广大观众和各界人士关注的话题。今天，我国部分知名话剧艺术家、戏剧评论家聚集一起，就如何进一步繁荣话剧问题各抒己见。\n",
      "艺术家们对江泽民总书记日前观看话剧《虎踞钟山》后，对话剧艺术给予的充分肯定和理解感到很受鼓舞。许多与会者说，江泽民总书记说话剧是其他艺术形式不可替代的、对观众具有相当的吸引力，说出了大家的心里话。的确，中国话剧从产生之日起，就以反映时代、贴近时代赢得了千百万观众。\n",
      "但是，大家也清醒地看到，目前，中国的话剧事业从总体来看面临着一些困难：优秀话剧剧目少；受影视艺术等多元化文化市场的冲击严重，话剧人才在流失，话剧观众在减少，话剧阵地在缩小；尤其是在建设有中国特色社会主义新文化格局中，话剧面临着如何在新世纪求得更大发展和争得自己应有地位的严重挑战。与会人士强调，话剧的振兴是一个系统工程。它的进一步发展固然离不开党和国家的扶持和关怀，离不开社会的理解与支持，但关键是话剧界本身要做出自己“挖山不止”的努力。\n",
      "张庚、吴雪、欧阳山尊、胡可、李默然、徐晓钟、郑邦玉、郑振环、赵有亮、陈、陈薪伊、林连昆、康洪兴、查明哲、王晓鹰等在研讨会上先后发言。\n",
      "研讨会由人民日报文艺部、光明日报文艺部、求是杂志文教部共同主办。\n",
      "（刘玉琴单三娅曲志红）\n",
      "\n",
      "[(1638, 1), (725, 0.599543526848766), (1642, 0.5944488563803727), (1639, 0.5804480885698488), (1644, 0.5399401455067669), (1640, 0.4132939278851573), (1643, 0.40570590580248966), (461, 0.3739390257696535), (680, 0.3214618103403867), (796, 0.31943886621925854), (814, 0.2603749962726619), (1270, 0.25810092976881943), (1645, 0.24767105756074223), (103, 0.23702079364568235), (1407, 0.22417010894553177), (1637, 0.22381934336538054), (1641, 0.1876554459850487), (1143, 0.17076846685268887), (2380, 0.15918574033102284), (726, 0.15381759973423856)]\n"
     ]
    }
   ],
   "source": [
    "import random\n",
    "\n",
    "target = random.randint(0, len(docs)-1)\n",
    "res = most_similar(target)\n",
    "print(docs[target]['content'])      # 目标文档的内容\n",
    "print()                             # 换个行\n",
    "print(docs[res[1][0]]['content'])   # 最相似的文档的内容\n",
    "print(res)                          # 具体相似度值"
   ]
  }
 ],
 "metadata": {
  "interpreter": {
   "hash": "08adfbdfa66cd1ea82402a0ad87ef65cddd9dd65c9a0454cab824f2cb6a11d90"
  },
  "kernelspec": {
   "display_name": "Python 3.9.6 64-bit ('3.9.6': pyenv)",
   "name": "python3"
  },
  "language_info": {
   "codemirror_mode": {
    "name": "ipython",
    "version": 3
   },
   "file_extension": ".py",
   "mimetype": "text/x-python",
   "name": "python",
   "nbconvert_exporter": "python",
   "pygments_lexer": "ipython3",
   "version": "3.9.6"
  },
  "orig_nbformat": 4
 },
 "nbformat": 4,
 "nbformat_minor": 2
}
